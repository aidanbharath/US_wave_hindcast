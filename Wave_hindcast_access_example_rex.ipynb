{
 "cells": [
  {
   "cell_type": "code",
   "execution_count": null,
   "metadata": {},
   "outputs": [],
   "source": [
    "from rex import ResourceX\n",
    "\n",
    "wave_file = '/datasets/US_Wave/v1.0.0/US_wave_2010.h5'"
   ]
  },
  {
   "cell_type": "code",
   "execution_count": null,
   "metadata": {},
   "outputs": [],
   "source": [
    "with ResourceX(wave_file) as f:\n",
    "    meta = f.meta\n",
    "    time_index = f.time_index\n",
    "    swh = f['significant_wave_height']"
   ]
  },
  {
   "cell_type": "code",
   "execution_count": null,
   "metadata": {},
   "outputs": [],
   "source": [
    "lat_lon = (34.399408, -119.841181)\n",
    "with ResourceX(wave_file) as f:\n",
    "    lat_lon_swh = f.get_lat_lon_df('significant_wave_height', nwtc)"
   ]
  },
  {
   "cell_type": "code",
   "execution_count": null,
   "metadata": {},
   "outputs": [],
   "source": [
    "jurisdication='Oregan'\n",
    "with ResourceX(wave_file) as f:\n",
    "    ca_swh = f.get_region_df('significant_wave_height', jurisdiction,\n",
    "                            region_col='jurisdiction')"
   ]
  }
 ],
 "metadata": {
  "kernelspec": {
   "display_name": "Python 3",
   "language": "python",
   "name": "python3"
  },
  "language_info": {
   "codemirror_mode": {
    "name": "ipython",
    "version": 3
   },
   "file_extension": ".py",
   "mimetype": "text/x-python",
   "name": "python",
   "nbconvert_exporter": "python",
   "pygments_lexer": "ipython3",
   "version": "3.6.9"
  }
 },
 "nbformat": 4,
 "nbformat_minor": 4
}
