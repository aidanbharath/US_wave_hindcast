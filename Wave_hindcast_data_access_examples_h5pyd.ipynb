{
 "cells": [
  {
   "cell_type": "markdown",
   "metadata": {},
   "source": [
    "# NREL Wave Hindacast Data Access Example\n",
    "\n",
    "#### This notebook demonstrates basic usage of the National Renewable Energy Laboratory (NREL) West Coast Wave Hindcast dataset. The data is provided from Amazon Web Services using the HDF Group's Highly Scalable Data Service (HSDS).\n",
    "\n",
    "#### For this example to work, the packages necessary can be installed via pip:\n",
    "\n",
    "pip install -r requirements.txt\n",
    "\n",
    "#### Next you'll need to configure h5pyd to access the data on HSDS:\n",
    "\n",
    "hsconfigure\n",
    "\n",
    "#### and enter at the prompt:\n",
    "\n",
    "hs_endpoint = https://developer.nrel.gov/api/hsds   \n",
    "hs_username = None   \n",
    "hs_password = None   \n",
    "hs_api_key = 3K3JQbjZmWctY0xmIfSYvYgtIcM3CN0cb1Y2w9bf    \n",
    "\n",
    "#### The example API key here is for demonstation and is rate-limited per IP. To get your own API key, visit https://developer.nrel.gov/signup/\n",
    "\n",
    "#### You can also add the above contents to a configuration file at ~/.hscfg\n",
    "\n",
    "#### Finally, you can use Jupyter Notebook or Lab to view the example notebooks depending on your preference\n",
    "\n",
    "For example, to start the jupyter notebook server on your machine, type the following at a command prompt in the folder containing these files:\n",
    "\n",
    "    jupyter notebook\n",
    "\n",
    "This should start the server and open a browser window that contains these files, then open *this* ipython notebook, and get started!\n"
   ]
  },
  {
   "cell_type": "code",
   "execution_count": 1,
   "metadata": {},
   "outputs": [],
   "source": [
    "import h5pyd\n",
    "import numpy as np\n",
    "import pandas as pd\n",
    "import matplotlib.pyplot as plt"
   ]
  },
  {
   "cell_type": "markdown",
   "metadata": {},
   "source": [
    "### Basic Usage\n",
    "\n",
    "The Wave Hindcast Dataset is provided in annual .h5 files and currently spans the Western Coastal Region of the Lower 48 from 1979-2010.\n",
    "\n",
    "Each year can be accessed from /nrel/us-wave/US_Wave_${year}.h5\n",
    "\n",
    "To open the desired year of Wave Hindcast data server endpoint, username, password is found via a config file"
   ]
  },
  {
   "cell_type": "code",
   "execution_count": 3,
   "metadata": {},
   "outputs": [],
   "source": [
    "waves = h5pyd.File(f'/nrel/us-wave/US_Wave_1990.h5','r')"
   ]
  },
  {
   "cell_type": "code",
   "execution_count": 4,
   "metadata": {},
   "outputs": [
    {
     "data": {
      "text/plain": [
       "['coordinates',\n",
       " 'directionality_coefficient',\n",
       " 'energy_period',\n",
       " 'maximum_energy_direction',\n",
       " 'mean_absolute_period',\n",
       " 'mean_wave_direction',\n",
       " 'mean_zero-crossing_period',\n",
       " 'meta',\n",
       " 'omni-directional_wave_power',\n",
       " 'peak_period',\n",
       " 'significant_water_height',\n",
       " 'spectral_width',\n",
       " 'time_index',\n",
       " 'water_depth']"
      ]
     },
     "execution_count": 4,
     "metadata": {},
     "output_type": "execute_result"
    }
   ],
   "source": [
    "list(waves) # list of base attributes of the dataset"
   ]
  },
  {
   "cell_type": "markdown",
   "metadata": {},
   "source": [
    "## Datasets\n",
    "\n",
    "Each dataset quantity:\n",
    "\n",
    "- directionality_coefficient\n",
    "- energy_period\n",
    "- maximum_energy_direction\n",
    "- mean_absolute_period\n",
    "- mean_zero-crossing_period\n",
    "- omni-directional_wave_power\n",
    "- peak_period\n",
    "- significant_wave_height\n",
    "- spectral_width\n",
    "- water_depth\n",
    "\n",
    "is structured as ('time_index','coordinate')\n"
   ]
  },
  {
   "cell_type": "code",
   "execution_count": 5,
   "metadata": {},
   "outputs": [
    {
     "data": {
      "text/plain": [
       "(2920, 699904)"
      ]
     },
     "execution_count": 5,
     "metadata": {},
     "output_type": "execute_result"
    }
   ],
   "source": [
    "# Shapes of datasets\n",
    "waves['significant_water_height'].shape # (time_index, coordinates)"
   ]
  },
  {
   "cell_type": "code",
   "execution_count": 6,
   "metadata": {},
   "outputs": [
    {
     "name": "stdout",
     "output_type": "stream",
     "text": [
      "['description', 'dimensions', 'src_name', 'units']\n"
     ]
    }
   ],
   "source": [
    "# List the available dataset variable names within the dataset\n",
    "print(list(waves['coordinates'].attrs))"
   ]
  },
  {
   "cell_type": "code",
   "execution_count": 7,
   "metadata": {},
   "outputs": [
    {
     "data": {
      "text/html": [
       "<div>\n",
       "<style scoped>\n",
       "    .dataframe tbody tr th:only-of-type {\n",
       "        vertical-align: middle;\n",
       "    }\n",
       "\n",
       "    .dataframe tbody tr th {\n",
       "        vertical-align: top;\n",
       "    }\n",
       "\n",
       "    .dataframe thead th {\n",
       "        text-align: right;\n",
       "    }\n",
       "</style>\n",
       "<table border=\"1\" class=\"dataframe\">\n",
       "  <thead>\n",
       "    <tr style=\"text-align: right;\">\n",
       "      <th></th>\n",
       "      <th>water_depth</th>\n",
       "      <th>latitude</th>\n",
       "      <th>longitude</th>\n",
       "      <th>distance_to_shore</th>\n",
       "      <th>timezone</th>\n",
       "      <th>jurisdiction</th>\n",
       "    </tr>\n",
       "  </thead>\n",
       "  <tbody>\n",
       "    <tr>\n",
       "      <th>0</th>\n",
       "      <td>6.718400</td>\n",
       "      <td>48.864101</td>\n",
       "      <td>-125.386002</td>\n",
       "      <td>993.098145</td>\n",
       "      <td>-8</td>\n",
       "      <td>b'Canada'</td>\n",
       "    </tr>\n",
       "    <tr>\n",
       "      <th>1</th>\n",
       "      <td>28.699100</td>\n",
       "      <td>48.841801</td>\n",
       "      <td>-125.445999</td>\n",
       "      <td>5096.523438</td>\n",
       "      <td>-8</td>\n",
       "      <td>b'Canada'</td>\n",
       "    </tr>\n",
       "    <tr>\n",
       "      <th>2</th>\n",
       "      <td>49.457100</td>\n",
       "      <td>48.819302</td>\n",
       "      <td>-125.503998</td>\n",
       "      <td>6850.421387</td>\n",
       "      <td>-8</td>\n",
       "      <td>b'Canada'</td>\n",
       "    </tr>\n",
       "    <tr>\n",
       "      <th>3</th>\n",
       "      <td>72.204498</td>\n",
       "      <td>48.797199</td>\n",
       "      <td>-125.563004</td>\n",
       "      <td>10784.603516</td>\n",
       "      <td>-8</td>\n",
       "      <td>b'Canada'</td>\n",
       "    </tr>\n",
       "    <tr>\n",
       "      <th>4</th>\n",
       "      <td>92.086197</td>\n",
       "      <td>48.773998</td>\n",
       "      <td>-125.622002</td>\n",
       "      <td>15433.410156</td>\n",
       "      <td>-8</td>\n",
       "      <td>b'Canada'</td>\n",
       "    </tr>\n",
       "  </tbody>\n",
       "</table>\n",
       "</div>"
      ],
      "text/plain": [
       "   water_depth   latitude   longitude  distance_to_shore  timezone  \\\n",
       "0     6.718400  48.864101 -125.386002         993.098145        -8   \n",
       "1    28.699100  48.841801 -125.445999        5096.523438        -8   \n",
       "2    49.457100  48.819302 -125.503998        6850.421387        -8   \n",
       "3    72.204498  48.797199 -125.563004       10784.603516        -8   \n",
       "4    92.086197  48.773998 -125.622002       15433.410156        -8   \n",
       "\n",
       "  jurisdiction  \n",
       "0    b'Canada'  \n",
       "1    b'Canada'  \n",
       "2    b'Canada'  \n",
       "3    b'Canada'  \n",
       "4    b'Canada'  "
      ]
     },
     "execution_count": 7,
     "metadata": {},
     "output_type": "execute_result"
    }
   ],
   "source": [
    "# Locational information is stored in either 'meta' or 'coordinates'\n",
    "\n",
    "meta = pd.DataFrame(waves['meta'][:])\n",
    "meta.head()"
   ]
  },
  {
   "cell_type": "markdown",
   "metadata": {},
   "source": [
    "# Basic Usage\n",
    "\n",
    "The following examples illustrate basic spatial and timeseries based slicing techniques for the West Coast Wave Hindcast dataset, along with simple statistical analysis. "
   ]
  },
  {
   "cell_type": "markdown",
   "metadata": {},
   "source": [
    "## Time Slicing\n",
    "\n",
    "Basic description of timestamp extraction"
   ]
  },
  {
   "cell_type": "code",
   "execution_count": 8,
   "metadata": {},
   "outputs": [
    {
     "data": {
      "text/plain": [
       "(DatetimeIndex(['1990-01-01 00:00:00+00:00', '1990-01-01 03:00:00+00:00',\n",
       "                '1990-01-01 06:00:00+00:00', '1990-01-01 09:00:00+00:00',\n",
       "                '1990-01-01 12:00:00+00:00', '1990-01-01 15:00:00+00:00',\n",
       "                '1990-01-01 18:00:00+00:00', '1990-01-01 21:00:00+00:00',\n",
       "                '1990-01-02 00:00:00+00:00', '1990-01-02 03:00:00+00:00',\n",
       "                ...\n",
       "                '1990-12-30 18:00:00+00:00', '1990-12-30 21:00:00+00:00',\n",
       "                '1990-12-31 00:00:00+00:00', '1990-12-31 03:00:00+00:00',\n",
       "                '1990-12-31 06:00:00+00:00', '1990-12-31 09:00:00+00:00',\n",
       "                '1990-12-31 12:00:00+00:00', '1990-12-31 15:00:00+00:00',\n",
       "                '1990-12-31 18:00:00+00:00', '1990-12-31 21:00:00+00:00'],\n",
       "               dtype='datetime64[ns, UTC]', length=2920, freq=None),\n",
       " '3H')"
      ]
     },
     "execution_count": 8,
     "metadata": {},
     "output_type": "execute_result"
    }
   ],
   "source": [
    "# Extract datetime index for datasets (Saved as binary)\n",
    "\n",
    "time_index = pd.to_datetime(waves['time_index'][:].astype(str))\n",
    "time_index, time_index.inferred_freq # Temporal resolution is 3 hours"
   ]
  },
  {
   "cell_type": "code",
   "execution_count": 9,
   "metadata": {},
   "outputs": [],
   "source": [
    "Aug_7th_midnight = time_index.get_loc('1990-08-07 00:00:00') #precise data returns single index\n",
    "Aug = time_index.get_loc('1990-08') #Inprecise will return a range a values"
   ]
  },
  {
   "cell_type": "code",
   "execution_count": 10,
   "metadata": {},
   "outputs": [
    {
     "name": "stdout",
     "output_type": "stream",
     "text": [
      "August 7th midnight: 1990-08-07 00:00:00+00:00\n",
      "Month of August: DatetimeIndex(['1990-08-01 00:00:00+00:00', '1990-08-01 03:00:00+00:00',\n",
      "               '1990-08-01 06:00:00+00:00', '1990-08-01 09:00:00+00:00',\n",
      "               '1990-08-01 12:00:00+00:00', '1990-08-01 15:00:00+00:00',\n",
      "               '1990-08-01 18:00:00+00:00', '1990-08-01 21:00:00+00:00',\n",
      "               '1990-08-02 00:00:00+00:00', '1990-08-02 03:00:00+00:00',\n",
      "               ...\n",
      "               '1990-08-30 18:00:00+00:00', '1990-08-30 21:00:00+00:00',\n",
      "               '1990-08-31 00:00:00+00:00', '1990-08-31 03:00:00+00:00',\n",
      "               '1990-08-31 06:00:00+00:00', '1990-08-31 09:00:00+00:00',\n",
      "               '1990-08-31 12:00:00+00:00', '1990-08-31 15:00:00+00:00',\n",
      "               '1990-08-31 18:00:00+00:00', '1990-08-31 21:00:00+00:00'],\n",
      "              dtype='datetime64[ns, UTC]', length=248, freq=None)\n"
     ]
    }
   ],
   "source": [
    "print(f'August 7th midnight: {time_index[Aug_7th_midnight]}')\n",
    "print(f'Month of August: {time_index[Aug]}')"
   ]
  },
  {
   "cell_type": "markdown",
   "metadata": {},
   "source": [
    "## Mapping Data\n",
    "\n",
    "Basic methods to quickly plot data from the Hindcast spatially and temporally"
   ]
  },
  {
   "cell_type": "markdown",
   "metadata": {},
   "source": [
    "### Spatial Plots\n",
    "\n",
    "Coordinate pair indices are used to slice the datasets, and are accessed through the 'coordinates' attribute"
   ]
  },
  {
   "cell_type": "code",
   "execution_count": 11,
   "metadata": {},
   "outputs": [
    {
     "name": "stdout",
     "output_type": "stream",
     "text": [
      "Available attributes: {'description': '(latitude, longitude) using Datum: NAD83', 'dimensions': array([array('position', dtype='<U8')], dtype=object), 'src_name': '(Xp, Yp)', 'units': '(deg, deg)'}\n",
      "Coordinate pairs: [[  48.8641 -125.386 ]\n",
      " [  46.1511 -129.577 ]\n",
      " [  41.74   -129.538 ]\n",
      " ...\n",
      " [  37.4535 -122.072 ]\n",
      " [  37.4517 -122.055 ]\n",
      " [  37.4617 -122.027 ]]\n"
     ]
    }
   ],
   "source": [
    "coord_slice = 100\n",
    "\n",
    "print(f'Available attributes: {dict(waves[\"coordinates\"].attrs)}')\n",
    "coords = waves['coordinates'][::coord_slice]\n",
    "print(f'Coordinate pairs: {coords}')"
   ]
  },
  {
   "cell_type": "code",
   "execution_count": 12,
   "metadata": {},
   "outputs": [],
   "source": [
    "# Building a scatter plot of significant wave height values\n",
    "\n",
    "df = pd.DataFrame() # Combine data with coordinates in a DataFrame\n",
    "df['longitude'] = coords[:, 1]\n",
    "df['latitude'] = coords[:, 0]\n",
    "df['Hsig'] = waves['significant_water_height'][Aug_7th_midnight, ::coord_slice] "
   ]
  },
  {
   "cell_type": "code",
   "execution_count": 19,
   "metadata": {},
   "outputs": [
    {
     "data": {
      "application/vnd.jupyter.widget-view+json": {
       "model_id": "7b14eec38eed4bd5aa0c1a225eef8377",
       "version_major": 2,
       "version_minor": 0
      },
      "text/plain": [
       "Canvas(toolbar=Toolbar(toolitems=[('Home', 'Reset original view', 'home', 'home'), ('Back', 'Back to previous …"
      ]
     },
     "metadata": {},
     "output_type": "display_data"
    }
   ],
   "source": [
    "%matplotlib widget\n",
    "\n",
    "df['Hsig'][df['Hsig']<0] = np.nan # There are negative values here Levi\n",
    "df.plot.scatter(x='longitude', y='latitude', c='Hsig',\n",
    "                colormap='viridis',\n",
    "                title=str(time_index[Aug_7th_midnight]))\n",
    "plt.show()"
   ]
  },
  {
   "cell_type": "markdown",
   "metadata": {},
   "source": [
    "### Timeseries Plots\n",
    "\n",
    "Extracting a timeseries usually requires us to find a location of interest.      \n",
    "This can be done easially with KDTree, a function within scipy.spatial.   \n"
   ]
  },
  {
   "cell_type": "code",
   "execution_count": 17,
   "metadata": {},
   "outputs": [
    {
     "name": "stdout",
     "output_type": "stream",
     "text": [
      "Site index: 2567\n",
      "Coordinates Searched: (39.6122, -125.318)\n",
      "Coordinates of Nearest Point: [  39.546 -125.174]\n"
     ]
    }
   ],
   "source": [
    "from scipy.spatial import cKDTree\n",
    "\n",
    "tree = cKDTree(coords)\n",
    "def nearest_site(tree, lat_coord, lon_coord):\n",
    "    lat_lon = np.array([lat_coord, lon_coord])\n",
    "    dist, pos = tree.query(lat_lon)\n",
    "    return pos\n",
    "\n",
    "lat_coord, lon_coord = 39.6122, -125.318\n",
    "site_idx = nearest_site(tree, lat_coord, lon_coord)\n",
    "\n",
    "print(f'Site index: {site_idx}')\n",
    "print(f'Coordinates Searched: {lat_coord, lon_coord}')\n",
    "print(f'Coordinates of Nearest Point: {coords[site_idx]}')"
   ]
  },
  {
   "cell_type": "code",
   "execution_count": 18,
   "metadata": {},
   "outputs": [
    {
     "data": {
      "application/vnd.jupyter.widget-view+json": {
       "model_id": "527bf5074c7a431bb2616491a152da9a",
       "version_major": 2,
       "version_minor": 0
      },
      "text/plain": [
       "Canvas(toolbar=Toolbar(toolitems=[('Home', 'Reset original view', 'home', 'home'), ('Back', 'Back to previous …"
      ]
     },
     "metadata": {},
     "output_type": "display_data"
    },
    {
     "data": {
      "text/plain": [
       "<matplotlib.axes._subplots.AxesSubplot at 0x11a8d9e90>"
      ]
     },
     "execution_count": 18,
     "metadata": {},
     "output_type": "execute_result"
    }
   ],
   "source": [
    "# Now we can extract data at that location over a specified time range\n",
    "\n",
    "var = 'peak_period'\n",
    "\n",
    "dt = pd.DataFrame(waves[var][Aug,site_idx],index=time_index[Aug],columns=[var])\n",
    "dt.plot(y=var,title=f'Time sliced {var} Timeseries')"
   ]
  },
  {
   "cell_type": "markdown",
   "metadata": {},
   "source": [
    "## Basic Statistics and Grouping\n",
    "\n",
    "Here is an example of grouping data to create quick plots of statistics"
   ]
  },
  {
   "cell_type": "code",
   "execution_count": 20,
   "metadata": {},
   "outputs": [],
   "source": [
    "Vars =['significant_water_height','peak_period'] \n",
    "variables = np.array([waves[Vars[0]][Aug,site_idx], waves[Vars[1]][Aug,site_idx]])\n",
    "\n",
    "ds = pd.DataFrame(variables.T,\n",
    "                    index=time_index[Aug],\n",
    "                    columns=Vars\n",
    "                )\n",
    "group = ds.groupby('peak_period')"
   ]
  },
  {
   "cell_type": "code",
   "execution_count": 21,
   "metadata": {},
   "outputs": [
    {
     "data": {
      "application/vnd.jupyter.widget-view+json": {
       "model_id": "faeb91da6f6a452d824d6c43be5d896b",
       "version_major": 2,
       "version_minor": 0
      },
      "text/plain": [
       "Canvas(toolbar=Toolbar(toolitems=[('Home', 'Reset original view', 'home', 'home'), ('Back', 'Back to previous …"
      ]
     },
     "metadata": {},
     "output_type": "display_data"
    },
    {
     "data": {
      "text/plain": [
       "<matplotlib.axes._subplots.AxesSubplot at 0x11cdb0510>"
      ]
     },
     "execution_count": 21,
     "metadata": {},
     "output_type": "execute_result"
    }
   ],
   "source": [
    "# Plot the number of occurances of sea-states within peak period bins\n",
    "\n",
    "group.count().plot(kind='bar')"
   ]
  },
  {
   "cell_type": "code",
   "execution_count": 22,
   "metadata": {},
   "outputs": [
    {
     "data": {
      "application/vnd.jupyter.widget-view+json": {
       "model_id": "7be2a0f3fa0f455999f830cb9c2b81d7",
       "version_major": 2,
       "version_minor": 0
      },
      "text/plain": [
       "Canvas(toolbar=Toolbar(toolitems=[('Home', 'Reset original view', 'home', 'home'), ('Back', 'Back to previous …"
      ]
     },
     "metadata": {},
     "output_type": "display_data"
    },
    {
     "data": {
      "text/plain": [
       "<matplotlib.axes._subplots.AxesSubplot at 0x81ec15d90>"
      ]
     },
     "execution_count": 22,
     "metadata": {},
     "output_type": "execute_result"
    }
   ],
   "source": [
    "# plot the mean Hsig of the sea-states within peak period bins along with\n",
    "# the variance of those waveheights\n",
    "\n",
    "group.mean().plot(kind='bar',yerr=group.var())"
   ]
  },
  {
   "cell_type": "code",
   "execution_count": null,
   "metadata": {},
   "outputs": [],
   "source": []
  }
 ],
 "metadata": {
  "kernelspec": {
   "display_name": "Python 3",
   "language": "python",
   "name": "python3"
  },
  "language_info": {
   "codemirror_mode": {
    "name": "ipython",
    "version": 3
   },
   "file_extension": ".py",
   "mimetype": "text/x-python",
   "name": "python",
   "nbconvert_exporter": "python",
   "pygments_lexer": "ipython3",
   "version": "3.7.7"
  }
 },
 "nbformat": 4,
 "nbformat_minor": 4
}
